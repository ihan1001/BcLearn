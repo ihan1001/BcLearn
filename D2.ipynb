{
 "cells": [
  {
   "cell_type": "markdown",
   "id": "4dace830",
   "metadata": {},
   "source": [
    "引入共识机制（PoW）"
   ]
  },
  {
   "cell_type": "code",
   "execution_count": 1,
   "id": "77c09caa",
   "metadata": {},
   "outputs": [],
   "source": [
    "import hashlib\n",
    "from datetime import datetime\n",
    "\n",
    "\n",
    "class Block:\n",
    "    \"\"\"\n",
    "        区块结构\n",
    "            prev_hash:      父区块哈希值\n",
    "            data:           区块内容\n",
    "            timestamp:      区块创建时间\n",
    "            hash:           区块哈希值\n",
    "            Nonce:        随机数\n",
    "    \"\"\"\n",
    "    def __init__(self, data, prev_hash):\n",
    "        # 将传入的父哈希值和数据保存到类变量中\n",
    "        self.prev_hash = prev_hash    \n",
    "        self.data = data\n",
    "        # 获取当前时间\n",
    "        self.timestamp = datetime.now().strftime(\"%Y-%m-%d %H:%M:%S\")\n",
    "        \n",
    "        # 设置Nonce和哈希的初始值为None\n",
    "        self.nonce = None\n",
    "        self.hash = None\n",
    "        \n",
    "    def __repr__(self):\n",
    "        return \"区块内容：%s\\n哈希值: %s\" % (self.data, self.hash)"
   ]
  },
  {
   "cell_type": "code",
   "execution_count": 2,
   "id": "ab02e00a",
   "metadata": {},
   "outputs": [],
   "source": [
    "class ProofOfWork:\n",
    "    \"\"\"\n",
    "        工作量证明\n",
    "    \"\"\"\n",
    "    def __init__(self, block, difficult=5):\n",
    "        self.block = block\n",
    "        \n",
    "        # 定义工作量难度，默认为5，表示有效的哈希值以5个“0”开头\n",
    "        self.difficulty = difficult\n",
    "\n",
    "    def mine(self):\n",
    "        \"\"\"\n",
    "            挖矿函数\n",
    "        \"\"\"\n",
    "        i = 0\n",
    "        prefix = '0' * self.difficulty\n",
    "\n",
    "        while True:\n",
    "            message = hashlib.sha256()\n",
    "            message.update(str(self.block.prev_hash).encode('utf-8'))\n",
    "            message.update(str(self.block.data).encode('utf-8'))\n",
    "            message.update(str(self.block.timestamp).encode('utf-8'))\n",
    "            message.update(str(i).encode(\"utf-8\"))\n",
    "            \n",
    "            digest = message.hexdigest()\n",
    "            if digest.startswith(prefix):\n",
    "                self.block.nonce = i\n",
    "                self.block.hash = digest\n",
    "                return self.block\n",
    "            i += 1                           //递加\n",
    "\n",
    "    def validate(self):\n",
    "        \"\"\"\n",
    "            验证有效性\n",
    "        \"\"\"\n",
    "        message = hashlib.sha256()\n",
    "        message.update(str(self.block.prev_hash).encode('utf-8'))\n",
    "        message.update(str(self.block.data).encode('utf-8'))\n",
    "        message.update(str(self.block.timestamp).encode('utf-8'))\n",
    "        message.update(str(self.block.nonce).encode('utf-8'))\n",
    "        digest = message.hexdigest()\n",
    "\n",
    "        prefix = '0' * self.difficulty\n",
    "        return digest.startswith(prefix)"
   ]
  },
  {
   "cell_type": "code",
   "execution_count": 3,
   "id": "2c1d6b97",
   "metadata": {},
   "outputs": [],
   "source": [
    "# 先定义一个区块\n",
    "\n",
    "b = Block(data=\"测试\", prev_hash=\"\")\n",
    "\n",
    "# 再定义一个工作量证明\n",
    "w = ProofOfWork(b)"
   ]
  },
  {
   "cell_type": "code",
   "execution_count": 4,
   "id": "b66e9f43",
   "metadata": {},
   "outputs": [
    {
     "name": "stdout",
     "output_type": "stream",
     "text": [
      "Wall time: 1.56 s\n"
     ]
    }
   ],
   "source": [
    "# 进行挖矿，并统计函数执行时间  #返回区块对象\n",
    "%time  valid_block= w.mine() \n"
   ]
  },
  {
   "cell_type": "code",
   "execution_count": 5,
   "id": "12ca685c",
   "metadata": {},
   "outputs": [
    {
     "name": "stdout",
     "output_type": "stream",
     "text": [
      "Wall time: 0 ns\n"
     ]
    },
    {
     "data": {
      "text/plain": [
       "True"
      ]
     },
     "execution_count": 5,
     "metadata": {},
     "output_type": "execute_result"
    }
   ],
   "source": [
    "# 验证区块，并计算执行时间\n",
    "%time  w.validate()    #返回是否有效  是否由5个0开头\n"
   ]
  },
  {
   "cell_type": "code",
   "execution_count": 6,
   "id": "d2d051cc",
   "metadata": {},
   "outputs": [],
   "source": [
    "class BlockChain:\n",
    "    \"\"\"\n",
    "        区块链结构体\n",
    "            blocks:        包含的区块列表\n",
    "    \"\"\"\n",
    "    def __init__(self):\n",
    "        self.blocks = []\n",
    "\n",
    "    def add_block(self, block):\n",
    "        \"\"\"\n",
    "        添加区块\n",
    "        \"\"\"\n",
    "        self.blocks.append(block)"
   ]
  },
  {
   "cell_type": "code",
   "execution_count": 7,
   "id": "efe77505",
   "metadata": {},
   "outputs": [],
   "source": [
    "blockchain = BlockChain()\n",
    "\n",
    "new_block1 = Block(data=\"创世区块\", prev_hash=\"\")\n",
    "w1 = ProofOfWork(new_block1)\n",
    "genesis_block = w1.mine()\n",
    "blockchain.add_block(genesis_block)   #将生成的区块加入链    nonce值是正确的\n",
    "\n",
    "new_block2 = Block(data=\"张三转给李四1个比特币\", prev_hash=genesis_block.hash)\n",
    "w2 = ProofOfWork(new_block2)\n",
    "new_block = w2.mine()\n",
    "blockchain.add_block(new_block)\n",
    "\n",
    "new_block3 = Block(data=\"张三转给王五2个比特币\", prev_hash=new_block.hash)\n",
    "w3 = ProofOfWork(new_block3)\n",
    "new_block = w3.mine()\n",
    "blockchain.add_block(new_block)"
   ]
  },
  {
   "cell_type": "code",
   "execution_count": 8,
   "id": "400bbb6d",
   "metadata": {},
   "outputs": [
    {
     "name": "stdout",
     "output_type": "stream",
     "text": [
      "区块链包含区块个数: 3\n",
      "\n",
      "上一个区块哈希：\n",
      "区块内容：创世区块\n",
      "区块哈希：0000042c406c479836295102b9f864345c13eb96ccc0303c5ea5546834b9c04d\n",
      "\n",
      "\n",
      "上一个区块哈希：0000042c406c479836295102b9f864345c13eb96ccc0303c5ea5546834b9c04d\n",
      "区块内容：张三转给李四1个比特币\n",
      "区块哈希：00000857e3ed01f82be9c313c7195482a02e8ef2eb643a1a428366da5e01930b\n",
      "\n",
      "\n",
      "上一个区块哈希：00000857e3ed01f82be9c313c7195482a02e8ef2eb643a1a428366da5e01930b\n",
      "区块内容：张三转给王五2个比特币\n",
      "区块哈希：00000c6a5412fb4d7c15fa728df74a0850cb1513236eed8291174b81d3b278fa\n",
      "\n",
      "\n"
     ]
    }
   ],
   "source": [
    "# 打印区块链\n",
    "\n",
    "print(\"区块链包含区块个数: %d\\n\" % len(blockchain.blocks))\n",
    "\n",
    "for block in blockchain.blocks:\n",
    "    print(\"上一个区块哈希：%s\" % block.prev_hash)\n",
    "    print(\"区块内容：%s\" % block.data)\n",
    "    print(\"区块哈希：%s\" % block.hash)\n",
    "    print(\"\\n\") "
   ]
  },
  {
   "cell_type": "code",
   "execution_count": null,
   "id": "488ffa76",
   "metadata": {},
   "outputs": [],
   "source": []
  }
 ],
 "metadata": {
  "kernelspec": {
   "display_name": "Python 3",
   "language": "python",
   "name": "python3"
  },
  "language_info": {
   "codemirror_mode": {
    "name": "ipython",
    "version": 3
   },
   "file_extension": ".py",
   "mimetype": "text/x-python",
   "name": "python",
   "nbconvert_exporter": "python",
   "pygments_lexer": "ipython3",
   "version": "3.6.13"
  }
 },
 "nbformat": 4,
 "nbformat_minor": 5
}
