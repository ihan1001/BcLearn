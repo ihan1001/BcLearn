{
 "cells": [
  {
   "cell_type": "markdown",
   "id": "bc99493d",
   "metadata": {},
   "source": [
    "定义区块结构"
   ]
  },
  {
   "cell_type": "code",
   "execution_count": 8,
   "id": "bf4ca1fe",
   "metadata": {},
   "outputs": [],
   "source": [
    "import hashlib\n",
    "from datetime import datetime\n",
    "\n",
    "\n",
    "class Block:\n",
    "    \"\"\"\n",
    "        区块结构\n",
    "            prev_hash:      父区块哈希值\n",
    "            data:           区块内容\n",
    "            timestamp:      区块创建时间  ---时间戳\n",
    "            hash:           区块哈希值    ---简化了没有考虑Nonce值只计算前三个参数的hash值\n",
    "            \n",
    "            Nonce:          增加随机数字段  \n",
    "    \"\"\"\n",
    "    def __init__(self, data, prev_hash):\n",
    "        # 将传入的父哈希值和数据保存到类变量中\n",
    "        self.previous_hash = prev_hash\n",
    "        print(f\"父区块哈希{prev_hash}\")\n",
    "        self.data = data\n",
    "        # 获取当前时间\n",
    "        self.timestamp = datetime.now().strftime(\"%Y-%m-%d %H:%M:%S\")\n",
    "        \n",
    "#         #设置Nonce和hash的初始值是None\n",
    "#         self.Nonce = None\n",
    "#         self.hash = None\n",
    "#         def __repr__(self):  #当直接打印实例化对象时会自动执行\n",
    "#             return \"区块内容：%s\\n哈希值：%s\" % （self.data,self.hash）\n",
    "\n",
    "        # 计算区块的哈希值   \n",
    "        message = hashlib.sha256()\n",
    "        message.update(str(self.previous_hash).encode('utf-8'))\n",
    "        message.update(str(self.data).encode('utf-8'))\n",
    "        message.update(str(self.timestamp).encode('utf-8'))   #等同于三个参数拼接在一起用hash  一模一样的\n",
    "        print(\"当前区块哈希\"+message.hexdigest())\n",
    "        self.hash = message.hexdigest()"
   ]
  },
  {
   "cell_type": "code",
   "execution_count": 9,
   "id": "f63b069e",
   "metadata": {},
   "outputs": [
    {
     "data": {
      "text/plain": [
       "2"
      ]
     },
     "execution_count": 9,
     "metadata": {},
     "output_type": "execute_result"
    }
   ],
   "source": [
    "1+1"
   ]
  },
  {
   "cell_type": "markdown",
   "id": "9c60e63d",
   "metadata": {},
   "source": [
    "定义区块链结构"
   ]
  },
  {
   "cell_type": "code",
   "execution_count": 10,
   "id": "950e52f7",
   "metadata": {},
   "outputs": [],
   "source": [
    "class BlockChain:\n",
    "    \"\"\"\n",
    "        区块链结构体\n",
    "            blocks:        包含的区块列表\n",
    "    \"\"\"\n",
    "    def __init__(self):\n",
    "        self.blocks = []       #blocks先定义为一个空链表\n",
    "\n",
    "    def add_block(self, block):        #添加区块\n",
    "        \"\"\"\n",
    "        添加区块\n",
    "        \"\"\"\n",
    "        self.blocks.append(block)"
   ]
  },
  {
   "cell_type": "markdown",
   "id": "8b281c01",
   "metadata": {},
   "source": [
    "创建区块"
   ]
  },
  {
   "cell_type": "markdown",
   "id": "7f4d8d3b",
   "metadata": {},
   "source": [
    "其中需要注意的是第一个区块，也叫创世区块，它是一个特殊的区块，没有父区块，在区块链创建的时候会生成，定义如下："
   ]
  },
  {
   "cell_type": "code",
   "execution_count": 11,
   "id": "ede26c97",
   "metadata": {},
   "outputs": [
    {
     "name": "stdout",
     "output_type": "stream",
     "text": [
      "父区块哈希0\n",
      "当前区块哈希c3c6fad014df49096b02fd2ed19c527f885498b4704f079dfca0411021e2d81f\n"
     ]
    }
   ],
   "source": [
    "# 生成创世区块\n",
    "# 创世区块是第一个区块,无父区块哈希\n",
    "genesis_block = Block(data=\"创世区块\", prev_hash=\"0\")  #利用区块类创建一个对象（创世区块）"
   ]
  },
  {
   "cell_type": "code",
   "execution_count": 12,
   "id": "dff148fe",
   "metadata": {},
   "outputs": [
    {
     "name": "stdout",
     "output_type": "stream",
     "text": [
      "父区块哈希c3c6fad014df49096b02fd2ed19c527f885498b4704f079dfca0411021e2d81f\n",
      "当前区块哈希dcfed16d4a9f51513db6f8e93e5ae7bf34eba3b20edfe9560565e8af69e1bdf5\n",
      "父区块哈希dcfed16d4a9f51513db6f8e93e5ae7bf34eba3b20edfe9560565e8af69e1bdf5\n",
      "当前区块哈希6ad2dc31a33533be36a6dedc9b5f337f05da1acffeb00e39e60f4a04bf5ca813\n"
     ]
    }
   ],
   "source": [
    "# 再新建两个区块, prev_hash分别为前一个哈希值\n",
    "new_block1 = Block(data=\"张三转给李四1个比特币\", prev_hash=genesis_block.hash)\n",
    "new_block2 = Block(data=\"张三转给王五2个比特币\", prev_hash=new_block1.hash)"
   ]
  },
  {
   "cell_type": "code",
   "execution_count": 13,
   "id": "0b8a27d3",
   "metadata": {},
   "outputs": [],
   "source": [
    "# 新建一个区块链\n",
    "blockchain = BlockChain()\n",
    "\n",
    "# 将上面的几个区块添加到区块链中\n",
    "blockchain.add_block(genesis_block)\n",
    "blockchain.add_block(new_block1)\n",
    "blockchain.add_block(new_block2)"
   ]
  },
  {
   "cell_type": "code",
   "execution_count": 14,
   "id": "4c7570b4",
   "metadata": {},
   "outputs": [
    {
     "name": "stdout",
     "output_type": "stream",
     "text": [
      "区块链包含区块个数: 3\n",
      "\n",
      "这是第0个区块\n",
      "上一个区块哈希是:0\n",
      "本区块交易内容是:创世区块\n",
      "本区块哈希是:c3c6fad014df49096b02fd2ed19c527f885498b4704f079dfca0411021e2d81f\n",
      "这是第1个区块\n",
      "上一个区块哈希是:c3c6fad014df49096b02fd2ed19c527f885498b4704f079dfca0411021e2d81f\n",
      "本区块交易内容是:张三转给李四1个比特币\n",
      "本区块哈希是:dcfed16d4a9f51513db6f8e93e5ae7bf34eba3b20edfe9560565e8af69e1bdf5\n",
      "这是第2个区块\n",
      "上一个区块哈希是:dcfed16d4a9f51513db6f8e93e5ae7bf34eba3b20edfe9560565e8af69e1bdf5\n",
      "本区块交易内容是:张三转给王五2个比特币\n",
      "本区块哈希是:6ad2dc31a33533be36a6dedc9b5f337f05da1acffeb00e39e60f4a04bf5ca813\n"
     ]
    }
   ],
   "source": [
    "#打印区块链\n",
    "print(\"区块链包含区块个数: %d\\n\" % len(blockchain.blocks))\n",
    "no=0\n",
    "for block in blockchain.blocks:\n",
    "    print(f\"这是第{no}个区块\")\n",
    "    print(\"上一个区块哈希是:%s\"%block.previous_hash)\n",
    "    print(\"本区块交易内容是:%s\"%block.data)\n",
    "    print(\"本区块哈希是:%s\"%block.hash)\n",
    "    no += 1\n",
    "# 打印区块链\n",
    "\n"
   ]
  },
  {
   "cell_type": "markdown",
   "id": "c8e74d59",
   "metadata": {},
   "source": [
    "上面的函数创建了一个区块链，并生成两个区块，加上创世区块一共三个区块。"
   ]
  },
  {
   "cell_type": "markdown",
   "id": "bb25a948",
   "metadata": {},
   "source": [
    "引入共识机制中的PoW工作量证明机制：通过不断计算随机数（Nonce）"
   ]
  }
 ],
 "metadata": {
  "kernelspec": {
   "display_name": "Python 3 (ipykernel)",
   "language": "python",
   "name": "python3"
  },
  "language_info": {
   "codemirror_mode": {
    "name": "ipython",
    "version": 3
   },
   "file_extension": ".py",
   "mimetype": "text/x-python",
   "name": "python",
   "nbconvert_exporter": "python",
   "pygments_lexer": "ipython3",
   "version": "3.9.16"
  }
 },
 "nbformat": 4,
 "nbformat_minor": 5
}
