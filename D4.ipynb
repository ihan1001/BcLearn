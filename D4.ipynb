{
 "cells": [
  {
   "cell_type": "markdown",
   "id": "f97cd116",
   "metadata": {},
   "source": [
    "区块链网络是去中心化的，区块链不是基于一个中心节点产生的，而是由很多去中心化的节点一起参与维护的\n",
    "我们要实现一个简单地去中心化网络，该模拟实验，多个节点可以运行在同一个计算机上，只是每个节点使用了不同的本地端口号，每个节点都是使用一个独立的线程运行，相当于一个独立的节点。"
   ]
  },
  {
   "cell_type": "code",
   "execution_count": 7,
   "id": "c8c4f926",
   "metadata": {},
   "outputs": [],
   "source": [
    "# 导入椭圆曲线算法\n",
    "from ecdsa import SigningKey, SECP256k1, VerifyingKey, BadSignatureError\n",
    "import binascii\n",
    "import base64\n",
    "from hashlib import sha256\n",
    "\n",
    "\n",
    "class Wallet:\n",
    "    \"\"\"\n",
    "        钱包\n",
    "    \"\"\"\n",
    "    def __init__(self):\n",
    "        \"\"\"\n",
    "            钱包初始化时基于椭圆曲线生成一个唯一的秘钥对，代表区块链上一个唯一的账户\n",
    "        \"\"\"\n",
    "        self._private_key = SigningKey.generate(curve=SECP256k1)\n",
    "        self._public_key = self._private_key.get_verifying_key()\n",
    "\n",
    "    @property\n",
    "    def address(self):\n",
    "        \"\"\"\n",
    "            这里通过公钥生成地址\n",
    "        \"\"\"\n",
    "        h = sha256(self._public_key.to_pem())\n",
    "        return base64.b64encode(h.digest())\n",
    "\n",
    "    @property\n",
    "    def pubkey(self):\n",
    "        \"\"\"\n",
    "            返回公钥字符串\n",
    "        \"\"\"\n",
    "        return self._public_key.to_pem()\n",
    "\n",
    "    def sign(self, message):\n",
    "        \"\"\"\n",
    "            生成数字签名\n",
    "        \"\"\"\n",
    "        h = sha256(message.encode('utf8'))\n",
    "        return binascii.hexlify(self._private_key.sign(h.digest()))\n",
    "\n",
    "    \n",
    "def verify_sign(pubkey, message, signature):\n",
    "    \"\"\"\n",
    "        验证签名\n",
    "    \"\"\"\n",
    "    verifier = VerifyingKey.from_pem(pubkey)\n",
    "    h = sha256(message.encode('utf8'))\n",
    "    return verifier.verify(binascii.unhexlify(signature), h.digest())"
   ]
  },
  {
   "cell_type": "code",
   "execution_count": 8,
   "id": "6e802598",
   "metadata": {},
   "outputs": [],
   "source": [
    "import json\n",
    "\n",
    "class Transaction:\n",
    "    \"\"\"\n",
    "    交易的结构\n",
    "    \"\"\"\n",
    "    def __init__(self, sender, recipient, amount):\n",
    "        \"\"\"\n",
    "            初始化交易，设置交易的发送方、接收方和交易数量\n",
    "        \"\"\"\n",
    "        if isinstance(sender, bytes):\n",
    "            sender = sender.decode('utf-8')\n",
    "        self.sender = sender            # 发送方\n",
    "        if isinstance(recipient, bytes):\n",
    "            recipient = recipient.decode('utf-8')\n",
    "        self.recipient = recipient      # 接收方\n",
    "        self.amount = amount            # 交易数量\n",
    "        \n",
    "    def set_sign(self, signature, pubkey):\n",
    "        \"\"\"\n",
    "            为了便于验证这个交易的可靠性，需要发送方输入他的公钥和签名\n",
    "        \"\"\"\n",
    "        self.signature = signature      # 签名\n",
    "        self.pubkey = pubkey            # 发送方公钥\n",
    "        \n",
    "    def __repr__(self):\n",
    "        \"\"\"\n",
    "            交易大致可分为两种，一是挖矿所得，而是转账交易\n",
    "            挖矿所得无发送方，以此进行区分显示不同内容\n",
    "        \"\"\"\n",
    "        if self.sender:\n",
    "            s = \"从 %s 转至 %s %d个加密货币\" % (self.sender, self.recipient, self.amount)\n",
    "        else:\n",
    "            s = \"%s 挖矿获取%d个加密货币\" % (self.recipient, self.amount)\n",
    "        return s\n",
    "\n",
    "\n",
    "class TransactionEncoder(json.JSONEncoder):\n",
    "    \"\"\"\n",
    "    定义Json的编码类，用来序列化Transaction\n",
    "    \"\"\"\n",
    "    def default(self, obj):\n",
    "        if isinstance(obj, Transaction):\n",
    "            return obj.__dict__\n",
    "        else:\n",
    "            return json.JSONEncoder.default(self, obj)"
   ]
  },
  {
   "cell_type": "code",
   "execution_count": 9,
   "id": "b0fce314",
   "metadata": {},
   "outputs": [],
   "source": [
    "import hashlib\n",
    "from datetime import datetime\n",
    "\n",
    "\n",
    "class Block:\n",
    "    \"\"\"\n",
    "        区块结构\n",
    "            prev_hash:      父区块哈希值\n",
    "            transactions:           交易对\n",
    "            timestamp:      区块创建时间\n",
    "            hash:           区块哈希值\n",
    "            Nonce:        随机数\n",
    "    \"\"\"\n",
    "    def __init__(self, transactions, prev_hash):\n",
    "        # 将传入的父哈希值和数据保存到类变量中\n",
    "        self.prev_hash = prev_hash    \n",
    "        self.transactions = transactions\n",
    "        # 获取当前时间\n",
    "        self.timestamp = datetime.now().strftime(\"%Y-%m-%d %H:%M:%S\")\n",
    "        \n",
    "        # 设置Nonce和哈希的初始值为None\n",
    "        self.nonce = None\n",
    "        self.hash = None\n",
    "        \n",
    "    def __repr__(self):\n",
    "        return \"区块内容：%s\\n哈希值: %s\" % (json.dumps(self.transactions), self.hash)"
   ]
  },
  {
   "cell_type": "code",
   "execution_count": 10,
   "id": "5549541a",
   "metadata": {},
   "outputs": [],
   "source": [
    "DIFFICULTY = 5\n",
    "\n",
    "class ProofOfWork:\n",
    "    \"\"\"\n",
    "        工作量证明\n",
    "    \"\"\"\n",
    "    def __init__(self, block, miner, difficult=5):\n",
    "        self.block = block\n",
    "        \n",
    "        # 定义工作量难度，默认为5，表示有效的哈希值以5个“0”开头\n",
    "        self.difficulty = DIFFICULTY\n",
    "\n",
    "        self.miner = miner\n",
    "        # 添加挖矿奖励\n",
    "        self.reward_amount = 1\n",
    "\n",
    "    def mine(self):\n",
    "        \"\"\"\n",
    "            挖矿函数\n",
    "        \"\"\"\n",
    "        i = 0\n",
    "        prefix = '0' * self.difficulty\n",
    "        \n",
    "        \n",
    "        # 添加奖励\n",
    "        t = Transaction(\n",
    "                sender=\"\",\n",
    "                recipient=self.miner.address,\n",
    "                amount=self.reward_amount,\n",
    "            )\n",
    "        sig = self.miner.sign(json.dumps(t, cls=TransactionEncoder))\n",
    "        t.set_sign(sig, self.miner.pubkey)\n",
    "        self.block.transactions.append(t)\n",
    "\n",
    "        while True:\n",
    "            message = hashlib.sha256()\n",
    "            message.update(str(self.block.prev_hash).encode('utf-8'))\n",
    "            # 更新区块中的交易数据\n",
    "            # message.update(str(self.block.data).encode('utf-8'))\n",
    "            message.update(str(self.block.transactions).encode('utf-8'))\n",
    "            message.update(str(self.block.timestamp).encode('utf-8'))\n",
    "            message.update(str(i).encode(\"utf-8\"))\n",
    "            digest = message.hexdigest()\n",
    "            if digest.startswith(prefix):\n",
    "                self.block.nonce = i\n",
    "                self.block.hash = digest\n",
    "                return self.block\n",
    "            i += 1"
   ]
  },
  {
   "cell_type": "code",
   "execution_count": 11,
   "id": "682e808f",
   "metadata": {},
   "outputs": [],
   "source": [
    "class BlockChain:\n",
    "    \"\"\"\n",
    "        区块链结构体\n",
    "            blocks:        包含的区块列表\n",
    "    \"\"\"\n",
    "    def __init__(self):\n",
    "        self.blocks = []\n",
    "\n",
    "    def add_block(self, block):\n",
    "        \"\"\"\n",
    "        添加区块\n",
    "        \"\"\"\n",
    "        self.blocks.append(block)"
   ]
  },
  {
   "cell_type": "markdown",
   "id": "e5ce2296",
   "metadata": {},
   "source": [
    "# 新增内容：构建去中心化网络"
   ]
  },
  {
   "cell_type": "code",
   "execution_count": 12,
   "id": "b43bab6d",
   "metadata": {},
   "outputs": [],
   "source": [
    "import socket      #套接字，利用三元组【ip地址，协议，端口】可以进行网络间通信\n",
    "import threading   #线程\n",
    "import pickle\n",
    "\n",
    "# 定义一个全局列表保存所有节点\n",
    "NODE_LIST = []\n",
    "\n",
    "\n",
    "class Node(threading.Thread):  #继承与线程\n",
    "    def __init__(self, name, port, host=\"localhost\"):\n",
    "        threading.Thread.__init__(self, name=name)\n",
    "        self.host = host           #  服务器地址，本地电脑都设为localhost\n",
    "        self.port = port           # 每个节点对应一个唯一的端口号\n",
    "        self.name = name           # 唯一的节点名称\n",
    "        self.wallet = Wallet()\n",
    "        self.blockchain = None    # 用来存储一个区块链副本  账本\n",
    "        \n",
    "    def run(self):\n",
    "        \"\"\"\n",
    "            节点运行\n",
    "        \"\"\"\n",
    "        self.init_blockchain()    # 初始化区块链\n",
    "        \n",
    "        # 在指定端口进行监听\n",
    "        sock = socket.socket(socket.AF_INET, socket.SOCK_STREAM)      #获取TCP/ip  套接字sock\n",
    "        sock.bind((self.host, self.port))                             #绑定主机，端口号到套接字sock\n",
    "        NODE_LIST.append({\n",
    "            \"name\": self.name,\n",
    "            \"host\": self.host,\n",
    "            \"port\": self.port\n",
    "        })\n",
    "        \n",
    "        sock.listen(10)                                            #开始TCP监听\n",
    "        print(self.name, \"运行中...\")\n",
    "        \n",
    "        while True:       # 不断处理其他节点发送的请求\n",
    "            connection,address = sock.accept()                    #被动接受TCP客户的连接，(阻塞式)等待连接的到来\n",
    "            try:\n",
    "                print(self.name, \"处理请求内容...\")\n",
    "                self.handle_request(connection)\n",
    "            except socket.timeout:  \n",
    "                print('超时!')\n",
    "            except Exception as e:\n",
    "                print(e, )\n",
    "            connection.close()\n",
    "            \n",
    "            \n",
    "            \n",
    "            \n",
    "    \n",
    "    def handle_request(self, connection):\n",
    "        data = []\n",
    "        \n",
    "        while True:    # 不断读取请求数据直至读取完成\n",
    "            buf = connection.recv(1024)  \n",
    "            if not buf: # 若读取不到新的数据则退出\n",
    "                break\n",
    "            data.append(buf)\n",
    "            if len(buf) < 1024:   # 若读取到的数据长度小于规定长度，说明数据读取完成，退出\n",
    "                break\n",
    "        t = pickle.loads(b''.join(data)) #从pickle格式的文件中读取数据并转换为Python的类型。\n",
    "        print(\"数据接受完成,判断数据的  类 ：交易，区块，初始化\" )\n",
    "        \n",
    "        if isinstance(t, Transaction):  # 如果t是新交易类  消息\n",
    "            print(\"处理交易请求...\")\n",
    "            if verify_sign(t.pubkey, str(t), t.signature):   #验证交易，公钥验证签名\n",
    "                # 验证交易签名没问题，生成一个新的区块\n",
    "                print(self.name, \"验证交易成功\")\n",
    "            \n",
    "                new_block = Block(transactions=[t], prev_hash=\"\")\n",
    "                print(self.name, \"生成新的区块...\")\n",
    "                \n",
    "                w = ProofOfWork(new_block, self.wallet)\n",
    "                block = w.mine()                              #挖矿，挖到正确的区块哈希值，此处block就是新的区块，主要是找到了符合要求的nonce值\n",
    "                print(self.name, \"将新区块添加到区块链中\")\n",
    "                self.blockchain.add_block(block)\n",
    "                \n",
    "                \n",
    "                print(self.name, \"将新区块广播到网络中...\")\n",
    "                self.broadcast_new_block(block)\n",
    "                \n",
    "                \n",
    "            else:\n",
    "                print(self.name, \"交易验证失败！\")   #签名不对\n",
    "                \n",
    "        elif isinstance(t, Block):   #如果t是新区块类  消息\n",
    "            print(\"处理新区块请求...\")\n",
    "            if self.verify_block(t):  \n",
    "                print(self.name, \"区块验证成功\")  \n",
    "                self.blockchain.add_block(t)\n",
    "                print(self.name, \"添加新区块成功\")\n",
    "            else:\n",
    "                print(self.name, \"区块验证失败!\")\n",
    "                \n",
    "                \n",
    "        else:  # 如果不是新区块消息，默认为初始化消息类型，返回本地区块链内容\n",
    "            print(\"是我是我，我是初始化，我要返回我的区块链信息\")\n",
    "            connection.send(pickle.dumps(self.blockchain))\n",
    "            \n",
    "    def verify_block(self, block):\n",
    "        \"\"\"\n",
    "            验证区块有效性   是否是符合难度的区块哈希值，找到了正确的nonce值\n",
    "        \"\"\"\n",
    "        message = hashlib.sha256()\n",
    "        message.update(str(block.prev_hash).encode('utf-8'))\n",
    "        # 更新区块中的交易数据\n",
    "        # message.update(str(self.block.data).encode('utf-8'))\n",
    "        message.update(str(block.transactions).encode('utf-8'))\n",
    "        message.update(str(block.timestamp).encode('utf-8'))\n",
    "        message.update(str(block.nonce).encode('utf-8'))\n",
    "        digest = message.hexdigest()\n",
    "\n",
    "        prefix = '0' * DIFFICULTY\n",
    "        return digest.startswith(prefix)\n",
    "            \n",
    "    def broadcast_new_block(self, block):\n",
    "        \"\"\"\n",
    "            将新生成的区块广播到网络中其他节点\n",
    "        \"\"\"\n",
    "        for node in NODE_LIST:     #遍历节点中的每一个节点，把新的区块广播给除了自己的所有节点\n",
    "            host =node['host']\n",
    "            port = node['port']\n",
    "            \n",
    "            if host == self.host and port == self.port:\n",
    "                print(self.name, \"忽略自身节点\")\n",
    "            else:\n",
    "                print(self.name, \"广播新区块至 %s\" % (node['name']))\n",
    "                sock = socket.socket(socket.AF_INET, socket.SOCK_STREAM)\n",
    "                sock.connect((host, port))    # 连接到网络中的节点\n",
    "                sock.send(pickle.dumps(block))   # 发送新区块\n",
    "                sock.close()          # 发送完成后关闭连接\n",
    "                \n",
    "    def init_blockchain(self):\n",
    "        \"\"\"\n",
    "            初始化当前节点的区块链\n",
    "        \"\"\"\n",
    "        #PER_BYTE = 1024\n",
    "        if NODE_LIST:                # 若当前网络中已存在其他节点，则从第一个节点从获取区块链信息\n",
    "            host = NODE_LIST[0]['host']\n",
    "            port = NODE_LIST[0]['port']\n",
    "            name = NODE_LIST[0][\"name\"]\n",
    "            print(self.name, \"发送初始化请求 %s\" % (name))\n",
    "            print(\"开始让节点1发送请求\")\n",
    "            sock = socket.socket(socket.AF_INET, socket.SOCK_STREAM)    #获取TCP/ip套接字\n",
    "            sock.connect((host, port))    # 连接到网络中的第一个节点\n",
    "            sock.send(pickle.dumps('INIT'))   # 发送初始化请求   pickle.dumps将Python数据转换为pickle格式的bytes字串\n",
    "            print(\"请求成功\")\n",
    "            \n",
    "            data = []\n",
    "            print(\"开始接受节点1的connect返回的信息\")\n",
    "            while True:          # 读取区块链信息，直至完全获取后退出\n",
    "                buf = sock.recv(1024)\n",
    "                print(\"接收中\")\n",
    "                if not buf:\n",
    "                    print(\"接收完毕，接空\")\n",
    "                    break\n",
    "                \n",
    "                data.append(buf)\n",
    "                if len(buf) < 1024:\n",
    "                    print(\"太短了，完毕\")\n",
    "                    break\n",
    "            sock.close()   # 获取完成后关闭连接\n",
    "            \n",
    "            # 将获取的区块链信息赋值到当前节点\n",
    "            self.blockchain = pickle.loads(b''.join(data))\n",
    "            print(self.name, \"初始化完成.\")\n",
    "            \n",
    "        else:\n",
    "            # 如果是网络中的第一个节点，初始化一个创世区块\n",
    "            block = Block(transactions=[], prev_hash=\"\")\n",
    "            w = ProofOfWork(block, self.wallet)\n",
    "            genesis_block = w.mine()\n",
    "            self.blockchain = BlockChain()\n",
    "            self.blockchain.add_block(genesis_block)\n",
    "            print(\"生成创世区块\")\n",
    "    \n",
    "    def submit_transaction(self, transaction):   #遍历节点中的每一个节点，把新的交易广播给除了自己的所有节点\n",
    "         for node in NODE_LIST:\n",
    "            host =node['host']\n",
    "            port = node['port']\n",
    "            \n",
    "            if host == self.host and port == self.port:\n",
    "                print(self.name, \"忽略自身节点\")\n",
    "            else:\n",
    "                print(self.name, \"广播新区块至 %s:%s\" % (self.host, self.port))\n",
    "                sock = socket.socket(socket.AF_INET, socket.SOCK_STREAM)  \n",
    "                sock.connect((node[\"host\"], node[\"port\"]))  \n",
    "                sock.send(pickle.dumps(transaction)) \n",
    "                sock.close()\n",
    "\n",
    "        \n",
    "    def get_balance(self):\n",
    "        balance = 0\n",
    "        for block in self.blockchain.blocks:\n",
    "            for t in block.transactions:\n",
    "                if t.sender == self.wallet.address.decode():\n",
    "                    balance -= t.amount\n",
    "                elif t.recipient == self.wallet.address.decode():\n",
    "                    balance += t.amount\n",
    "        print(\"当前拥有%.1f个加密货币\" % (balance))\n",
    "    \n",
    "    def print_blockchain(self):\n",
    "        print(\"区块链包含区块个数: %d\\n\" % len(self.blockchain.blocks))\n",
    "        for block in self.blockchain.blocks:\n",
    "            print(\"上个区块哈希：%s\" % block.prev_hash)\n",
    "            print(\"区块内容：%s\" % block.transactions)\n",
    "            print(\"区块哈希：%s\" % block.hash)\n",
    "            print(\"\\n\") "
   ]
  },
  {
   "cell_type": "code",
   "execution_count": 13,
   "id": "31289c9c",
   "metadata": {},
   "outputs": [],
   "source": [
    "# 初始化节点1\n",
    "\n",
    "node1 = Node(\"节点1\", 8000)"
   ]
  },
  {
   "cell_type": "code",
   "execution_count": 14,
   "id": "8c420c58",
   "metadata": {},
   "outputs": [
    {
     "name": "stdout",
     "output_type": "stream",
     "text": [
      "生成创世区块\n",
      "节点1 运行中...\n"
     ]
    }
   ],
   "source": [
    "node1.start()   #启动线程  调用 start() 方法是用来启动线程的，轮到该线程执行时，会自动调用 run()；直接调用 run() 方法"
   ]
  },
  {
   "cell_type": "code",
   "execution_count": 15,
   "id": "0cdf5b06",
   "metadata": {
    "scrolled": true
   },
   "outputs": [
    {
     "name": "stdout",
     "output_type": "stream",
     "text": [
      "区块链包含区块个数: 1\n",
      "\n",
      "上个区块哈希：\n",
      "区块内容：[ErjI8Y9VOsGqIiL/0VQry93kHrshx1vYifdUFIWNAUc= 挖矿获取1个加密货币]\n",
      "区块哈希：000006874da9ea6f7d6d9c001785802266e68ba93cfaab4222951b80a6391f34\n",
      "\n",
      "\n"
     ]
    }
   ],
   "source": [
    "node1.print_blockchain()  #输出区块信息"
   ]
  },
  {
   "cell_type": "code",
   "execution_count": 16,
   "id": "9bb01d80",
   "metadata": {},
   "outputs": [],
   "source": [
    "node2 = Node(\"节点2\", 8001)"
   ]
  },
  {
   "cell_type": "code",
   "execution_count": 17,
   "id": "373d60a7",
   "metadata": {},
   "outputs": [
    {
     "name": "stdout",
     "output_type": "stream",
     "text": [
      "节点2 发送初始化请求 节点1\n",
      "开始让节点1发送请求\n",
      "请求成功\n",
      "开始接受节点1的connect返回的信息\n",
      "节点1 处理请求内容...\n",
      "数据接受完成,判断数据的  类 ：交易，区块，初始化\n",
      "是我是我，我是初始化，我要返回我的区块链信息\n",
      "接收中\n",
      "太短了，完毕\n",
      "节点2 初始化完成.\n",
      "节点2 运行中...\n"
     ]
    }
   ],
   "source": [
    "node2.start() "
   ]
  },
  {
   "cell_type": "code",
   "execution_count": 18,
   "id": "be45cf7c",
   "metadata": {},
   "outputs": [
    {
     "name": "stdout",
     "output_type": "stream",
     "text": [
      "区块链包含区块个数: 1\n",
      "\n",
      "上个区块哈希：\n",
      "区块内容：[ErjI8Y9VOsGqIiL/0VQry93kHrshx1vYifdUFIWNAUc= 挖矿获取1个加密货币]\n",
      "区块哈希：000006874da9ea6f7d6d9c001785802266e68ba93cfaab4222951b80a6391f34\n",
      "\n",
      "\n"
     ]
    }
   ],
   "source": [
    "node2.print_blockchain()"
   ]
  },
  {
   "cell_type": "code",
   "execution_count": 19,
   "id": "c5524436",
   "metadata": {},
   "outputs": [
    {
     "name": "stdout",
     "output_type": "stream",
     "text": [
      "当前拥有1.0个加密货币\n"
     ]
    }
   ],
   "source": [
    "node1.get_balance()"
   ]
  },
  {
   "cell_type": "code",
   "execution_count": 20,
   "id": "15951531",
   "metadata": {},
   "outputs": [
    {
     "name": "stdout",
     "output_type": "stream",
     "text": [
      "当前拥有0.0个加密货币\n"
     ]
    }
   ],
   "source": [
    "node2.get_balance()"
   ]
  },
  {
   "cell_type": "code",
   "execution_count": 21,
   "id": "522a5168",
   "metadata": {},
   "outputs": [],
   "source": [
    "#创建交易\n",
    "new_transaction = Transaction(\n",
    "    sender=node1.wallet.address,\n",
    "    recipient=node2.wallet.address,\n",
    "    amount=0.3\n",
    ")\n",
    "sig = node1.wallet.sign(str(new_transaction))  #私钥签名\n",
    "new_transaction.set_sign(sig, node1.wallet.pubkey)#发送公钥，和签名，给验证者验证"
   ]
  },
  {
   "cell_type": "code",
   "execution_count": 22,
   "id": "5095a198",
   "metadata": {},
   "outputs": [
    {
     "name": "stdout",
     "output_type": "stream",
     "text": [
      "节点1 忽略自身节点\n",
      "节点1 广播新区块至 localhost:8000\n",
      "节点2 处理请求内容...\n",
      "数据接受完成,判断数据的  类 ：交易，区块，初始化\n",
      "处理交易请求...\n",
      "节点2 验证交易成功\n",
      "节点2 生成新的区块...\n",
      "节点2 将新区块添加到区块链中\n",
      "节点2 将新区块广播到网络中...\n",
      "节点2 广播新区块至 节点1\n",
      "节点1 处理请求内容...\n",
      "节点2 忽略自身节点\n",
      "数据接受完成,判断数据的  类 ：交易，区块，初始化\n",
      "处理新区块请求...\n",
      "节点1 区块验证成功\n",
      "节点1 添加新区块成功\n"
     ]
    }
   ],
   "source": [
    "node1.submit_transaction(new_transaction)    #广播交易"
   ]
  },
  {
   "cell_type": "code",
   "execution_count": 23,
   "id": "9c4e272c",
   "metadata": {},
   "outputs": [
    {
     "name": "stdout",
     "output_type": "stream",
     "text": [
      "区块链包含区块个数: 2\n",
      "\n",
      "上个区块哈希：\n",
      "区块内容：[ErjI8Y9VOsGqIiL/0VQry93kHrshx1vYifdUFIWNAUc= 挖矿获取1个加密货币]\n",
      "区块哈希：000006874da9ea6f7d6d9c001785802266e68ba93cfaab4222951b80a6391f34\n",
      "\n",
      "\n",
      "上个区块哈希：\n",
      "区块内容：[从 ErjI8Y9VOsGqIiL/0VQry93kHrshx1vYifdUFIWNAUc= 转至 Zda6Vkd5lLMafNs+hBgm7oP9dtqRXLlHn/Q6os+OAPY= 0个加密货币, Zda6Vkd5lLMafNs+hBgm7oP9dtqRXLlHn/Q6os+OAPY= 挖矿获取1个加密货币]\n",
      "区块哈希：000001f82209cae450a7745865dd0ed89d7792ecd0c438eaef9fa1100131a7db\n",
      "\n",
      "\n"
     ]
    }
   ],
   "source": [
    "node1.print_blockchain()"
   ]
  },
  {
   "cell_type": "code",
   "execution_count": 24,
   "id": "843fa19c",
   "metadata": {},
   "outputs": [
    {
     "name": "stdout",
     "output_type": "stream",
     "text": [
      "区块链包含区块个数: 2\n",
      "\n",
      "上个区块哈希：\n",
      "区块内容：[ErjI8Y9VOsGqIiL/0VQry93kHrshx1vYifdUFIWNAUc= 挖矿获取1个加密货币]\n",
      "区块哈希：000006874da9ea6f7d6d9c001785802266e68ba93cfaab4222951b80a6391f34\n",
      "\n",
      "\n",
      "上个区块哈希：\n",
      "区块内容：[从 ErjI8Y9VOsGqIiL/0VQry93kHrshx1vYifdUFIWNAUc= 转至 Zda6Vkd5lLMafNs+hBgm7oP9dtqRXLlHn/Q6os+OAPY= 0个加密货币, Zda6Vkd5lLMafNs+hBgm7oP9dtqRXLlHn/Q6os+OAPY= 挖矿获取1个加密货币]\n",
      "区块哈希：000001f82209cae450a7745865dd0ed89d7792ecd0c438eaef9fa1100131a7db\n",
      "\n",
      "\n"
     ]
    }
   ],
   "source": [
    "node2.print_blockchain()"
   ]
  },
  {
   "cell_type": "code",
   "execution_count": 25,
   "id": "51d48697",
   "metadata": {},
   "outputs": [
    {
     "name": "stdout",
     "output_type": "stream",
     "text": [
      "当前拥有0.7个加密货币\n"
     ]
    }
   ],
   "source": [
    "node1.get_balance()"
   ]
  },
  {
   "cell_type": "code",
   "execution_count": 26,
   "id": "3705f52e",
   "metadata": {},
   "outputs": [
    {
     "name": "stdout",
     "output_type": "stream",
     "text": [
      "当前拥有1.3个加密货币\n"
     ]
    }
   ],
   "source": [
    "node2.get_balance()"
   ]
  },
  {
   "cell_type": "code",
   "execution_count": null,
   "id": "5ceffc5c",
   "metadata": {},
   "outputs": [],
   "source": []
  }
 ],
 "metadata": {
  "kernelspec": {
   "display_name": "Python 3",
   "language": "python",
   "name": "python3"
  },
  "language_info": {
   "codemirror_mode": {
    "name": "ipython",
    "version": 3
   },
   "file_extension": ".py",
   "mimetype": "text/x-python",
   "name": "python",
   "nbconvert_exporter": "python",
   "pygments_lexer": "ipython3",
   "version": "3.6.13"
  }
 },
 "nbformat": 4,
 "nbformat_minor": 5
}
